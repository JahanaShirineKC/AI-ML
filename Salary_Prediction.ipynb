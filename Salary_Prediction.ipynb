{
  "nbformat": 4,
  "nbformat_minor": 0,
  "metadata": {
    "colab": {
      "provenance": [],
      "authorship_tag": "ABX9TyOTVIWDZ4rUJjMsGcICAf5N",
      "include_colab_link": true
    },
    "kernelspec": {
      "name": "python3",
      "display_name": "Python 3"
    },
    "language_info": {
      "name": "python"
    }
  },
  "cells": [
    {
      "cell_type": "markdown",
      "metadata": {
        "id": "view-in-github",
        "colab_type": "text"
      },
      "source": [
        "<a href=\"https://colab.research.google.com/github/JahanaShirineKC/Regression/blob/main/Salary_Prediction.ipynb\" target=\"_parent\"><img src=\"https://colab.research.google.com/assets/colab-badge.svg\" alt=\"Open In Colab\"/></a>"
      ]
    },
    {
      "cell_type": "markdown",
      "source": [
        "Install Dependencies"
      ],
      "metadata": {
        "id": "GkX0iQ_DLv_6"
      }
    },
    {
      "cell_type": "code",
      "execution_count": 161,
      "metadata": {
        "colab": {
          "base_uri": "https://localhost:8080/"
        },
        "id": "E9k_04qQLVl3",
        "outputId": "8a343178-6846-4c2d-dc9a-5402ab39ff92"
      },
      "outputs": [
        {
          "output_type": "stream",
          "name": "stdout",
          "text": [
            "Requirement already satisfied: pandas in /usr/local/lib/python3.10/dist-packages (2.1.4)\n",
            "Requirement already satisfied: scikit-learn in /usr/local/lib/python3.10/dist-packages (1.3.2)\n",
            "Requirement already satisfied: numpy<2,>=1.22.4 in /usr/local/lib/python3.10/dist-packages (from pandas) (1.26.4)\n",
            "Requirement already satisfied: python-dateutil>=2.8.2 in /usr/local/lib/python3.10/dist-packages (from pandas) (2.8.2)\n",
            "Requirement already satisfied: pytz>=2020.1 in /usr/local/lib/python3.10/dist-packages (from pandas) (2024.1)\n",
            "Requirement already satisfied: tzdata>=2022.1 in /usr/local/lib/python3.10/dist-packages (from pandas) (2024.1)\n",
            "Requirement already satisfied: scipy>=1.5.0 in /usr/local/lib/python3.10/dist-packages (from scikit-learn) (1.13.1)\n",
            "Requirement already satisfied: joblib>=1.1.1 in /usr/local/lib/python3.10/dist-packages (from scikit-learn) (1.4.2)\n",
            "Requirement already satisfied: threadpoolctl>=2.0.0 in /usr/local/lib/python3.10/dist-packages (from scikit-learn) (3.5.0)\n",
            "Requirement already satisfied: six>=1.5 in /usr/local/lib/python3.10/dist-packages (from python-dateutil>=2.8.2->pandas) (1.16.0)\n"
          ]
        }
      ],
      "source": [
        "!pip install pandas scikit-learn\n"
      ]
    },
    {
      "cell_type": "markdown",
      "source": [
        "Dataset Loading\n"
      ],
      "metadata": {
        "id": "J2_hohYdNm8S"
      }
    },
    {
      "cell_type": "code",
      "source": [
        "import pandas as pd\n",
        "\n",
        "# Path to your CSV file\n",
        "csv_file_path = '/content/Salary.csv'\n",
        "\n",
        "# Read the CSV file\n",
        "df = pd.read_csv(csv_file_path)\n",
        "\n",
        "# Display the first few rows of the dataframe\n",
        "print(df.head())\n",
        "\n",
        "# Display basic statistics of the dataframe\n",
        "print(df.describe())\n",
        "\n",
        "# Check for missing values\n",
        "print(df.isnull().sum())\n"
      ],
      "metadata": {
        "colab": {
          "base_uri": "https://localhost:8080/"
        },
        "id": "DTXD2pVSLWSK",
        "outputId": "7d89097a-696b-4269-bea6-916dac1c9e58"
      },
      "execution_count": 162,
      "outputs": [
        {
          "output_type": "stream",
          "name": "stdout",
          "text": [
            "   YearsExperience  Salary\n",
            "0              1.1   39343\n",
            "1              1.3   46205\n",
            "2              1.5   37731\n",
            "3              2.0   43525\n",
            "4              2.2   39891\n",
            "       YearsExperience         Salary\n",
            "count        35.000000      35.000000\n",
            "mean          6.308571   83945.600000\n",
            "std           3.618610   32162.673003\n",
            "min           1.100000   37731.000000\n",
            "25%           3.450000   57019.000000\n",
            "50%           5.300000   81363.000000\n",
            "75%           9.250000  113223.500000\n",
            "max          13.500000  139465.000000\n",
            "YearsExperience    0\n",
            "Salary             0\n",
            "dtype: int64\n"
          ]
        }
      ]
    },
    {
      "cell_type": "markdown",
      "source": [
        "Preprocessing\n"
      ],
      "metadata": {
        "id": "xe3dWdocNqaj"
      }
    },
    {
      "cell_type": "code",
      "source": [
        "from sklearn.model_selection import train_test_split\n",
        "from sklearn.preprocessing import StandardScaler\n",
        "\n",
        "# Assuming 'Salary' is the target variable and all other columns are features\n",
        "X = df.drop('Salary', axis=1)\n",
        "y = df['Salary']\n",
        "\n",
        "# If there are any categorical features, encode them using one-hot encoding\n",
        "X = pd.get_dummies(X)\n",
        "\n",
        "# Split the data into training and testing sets\n",
        "X_train, X_test, y_train, y_test = train_test_split(X, y, test_size=0.2, random_state=42)\n",
        "\n",
        "# Feature scaling (if necessary)\n",
        "scaler = StandardScaler()\n",
        "X_train = scaler.fit_transform(X_train)\n",
        "X_test = scaler.transform(X_test)\n"
      ],
      "metadata": {
        "id": "HXQcUJEQMEfV"
      },
      "execution_count": 163,
      "outputs": []
    },
    {
      "cell_type": "markdown",
      "source": [
        "Random Forest Regression"
      ],
      "metadata": {
        "id": "ygmmvF77Ours"
      }
    },
    {
      "cell_type": "code",
      "source": [
        "import pandas as pd\n",
        "from sklearn.ensemble import RandomForestRegressor\n",
        "from sklearn.metrics import mean_absolute_error, mean_squared_error, r2_score\n",
        "from sklearn.model_selection import train_test_split\n",
        "\n",
        "# Load and prepare the data\n",
        "df = pd.read_csv('/content/Salary.csv')\n",
        "X = df[['YearsExperience']]  # Feature\n",
        "y = df['Salary']  # Target\n",
        "\n",
        "# Split the data\n",
        "X_train, X_test, y_train, y_test = train_test_split(X, y, test_size=0.2, random_state=42)\n",
        "\n",
        "# Initialize the RandomForestRegressor with specified parameters\n",
        "model_random = RandomForestRegressor(\n",
        "    n_estimators=100,         # Number of trees in the forest\n",
        "    max_features='sqrt',      # Number of features to consider for the best split\n",
        "    min_samples_split=2,      # Minimum number of samples required to split an internal node\n",
        "    random_state=42           # Seed for reproducibility\n",
        ")\n",
        "\n",
        "# Train the model\n",
        "model_random.fit(X_train, y_train)\n",
        "\n",
        "# Make predictions on the test set\n",
        "y_pred = model_random.predict(X_test)\n",
        "\n",
        "# Evaluate the model\n",
        "mae = mean_absolute_error(y_test, y_pred)\n",
        "mse = mean_squared_error(y_test, y_pred)\n",
        "r2 = r2_score(y_test, y_pred)\n",
        "\n",
        "print(f'Mean Absolute Error (MAE): {mae}')\n",
        "print(f'Mean Squared Error (MSE): {mse}')\n",
        "print(f'R^2 Score: {r2}')\n"
      ],
      "metadata": {
        "id": "1RSYuSzPOBcT",
        "colab": {
          "base_uri": "https://localhost:8080/"
        },
        "outputId": "13baf6a2-486d-4478-a7e8-79ad1e999467"
      },
      "execution_count": 164,
      "outputs": [
        {
          "output_type": "stream",
          "name": "stdout",
          "text": [
            "Mean Absolute Error (MAE): 3411.089285714285\n",
            "Mean Squared Error (MSE): 24216045.24671783\n",
            "R^2 Score: 0.9528477213946429\n"
          ]
        }
      ]
    },
    {
      "cell_type": "code",
      "source": [
        "\n",
        "from sklearn.metrics import mean_absolute_error, mean_squared_error, r2_score\n",
        "\n",
        "# Calculate evaluation metrics\n",
        "mae_random = mean_absolute_error(y_test, y_pred)\n",
        "mse_random = mean_squared_error(y_test, y_pred)\n",
        "r2_random = r2_score(y_test, y_pred)\n",
        "\n",
        "print(f'Mean Absolute Error (MAE): {mae_random}')\n",
        "print(f'Mean Squared Error (MSE): {mse_random}')\n",
        "print(f'R^2 Score: {r2_random}')"
      ],
      "metadata": {
        "colab": {
          "base_uri": "https://localhost:8080/"
        },
        "id": "1VxrYcXcOFGk",
        "outputId": "0e1ab803-e190-42ca-e4f5-aad948126f82"
      },
      "execution_count": 165,
      "outputs": [
        {
          "output_type": "stream",
          "name": "stdout",
          "text": [
            "Mean Absolute Error (MAE): 3411.089285714285\n",
            "Mean Squared Error (MSE): 24216045.24671783\n",
            "R^2 Score: 0.9528477213946429\n"
          ]
        }
      ]
    },
    {
      "cell_type": "markdown",
      "source": [
        "Linear Regression\n"
      ],
      "metadata": {
        "id": "_HOQCkQXPBhC"
      }
    },
    {
      "cell_type": "code",
      "source": [
        "from sklearn.linear_model import LinearRegression\n",
        "model_linear = LinearRegression()\n",
        "model_linear.fit(X_train, y_train)\n",
        "y_pred = model_linear.predict(X_test)\n"
      ],
      "metadata": {
        "id": "RZV7vWezSoyM"
      },
      "execution_count": 166,
      "outputs": []
    },
    {
      "cell_type": "code",
      "source": [
        "import numpy as np\n",
        "from sklearn.metrics import mean_absolute_error, mean_squared_error, r2_score\n",
        "\n",
        "# Calculate evaluation metrics\n",
        "mae_linear = mean_absolute_error(y_test, y_pred)\n",
        "mse_linear = mean_squared_error(y_test, y_pred)\n",
        "r2_linear = r2_score(y_test, y_pred)\n",
        "\n",
        "print(f'Mean Absolute Error (MAE): {mae_linear}')\n",
        "print(f'Mean Squared Error (MSE): {mse_linear}')\n",
        "print(f'R^2 Score: {r2_linear}')"
      ],
      "metadata": {
        "colab": {
          "base_uri": "https://localhost:8080/"
        },
        "id": "wNUwArhiSxtg",
        "outputId": "93a7404c-2523-4a5c-adc0-4a565d30a264"
      },
      "execution_count": 167,
      "outputs": [
        {
          "output_type": "stream",
          "name": "stdout",
          "text": [
            "Mean Absolute Error (MAE): 6692.364094497284\n",
            "Mean Squared Error (MSE): 55761791.306260146\n",
            "R^2 Score: 0.8914234140042779\n"
          ]
        }
      ]
    },
    {
      "cell_type": "markdown",
      "source": [
        "Gradient Boosting Regression\n"
      ],
      "metadata": {
        "id": "nasaOZuGS9C6"
      }
    },
    {
      "cell_type": "code",
      "source": [
        "from sklearn.ensemble import GradientBoostingRegressor\n",
        "from sklearn.metrics import mean_absolute_error, mean_squared_error, r2_score\n",
        "\n",
        "# Initialize the GradientBoostingRegressor with specified hyperparameters\n",
        "model_gradient = GradientBoostingRegressor(\n",
        "    learning_rate=0.1,          # Learning rate for updating the weights\n",
        "    max_depth=3,                # Maximum depth of the individual regression estimators\n",
        "    min_samples_leaf=2,         # Minimum number of samples required to be at a leaf node\n",
        "    min_samples_split=10,       # Minimum number of samples required to split an internal node\n",
        "    n_estimators=100            # Number of boosting stages to be run\n",
        ")\n",
        "\n",
        "# Train the model with the training data\n",
        "model_gradient.fit(X_train, y_train)\n",
        "\n",
        "# Make predictions on the test set\n",
        "y_pred = model_gradient.predict(X_test)\n",
        "\n",
        "# Calculate evaluation metrics\n",
        "mae_gradient = mean_absolute_error(y_test, y_pred)\n",
        "mse_gradient = mean_squared_error(y_test, y_pred)\n",
        "r2_gradient = r2_score(y_test, y_pred)\n",
        "\n",
        "# Print evaluation metrics\n",
        "print(f'Mean Absolute Error (MAE): {mae_gradient}')\n",
        "print(f'Mean Squared Error (MSE): {mse_gradient}')\n",
        "print(f'R^2 Score: {r2_gradient}')\n"
      ],
      "metadata": {
        "colab": {
          "base_uri": "https://localhost:8080/"
        },
        "id": "59yOlVulTAUU",
        "outputId": "ad015015-240a-4ef3-84fe-f9b1438d901e"
      },
      "execution_count": 168,
      "outputs": [
        {
          "output_type": "stream",
          "name": "stdout",
          "text": [
            "Mean Absolute Error (MAE): 3771.8198427410543\n",
            "Mean Squared Error (MSE): 29657608.992000062\n",
            "R^2 Score: 0.9422521791765702\n"
          ]
        }
      ]
    },
    {
      "cell_type": "markdown",
      "source": [
        "Comparison\n"
      ],
      "metadata": {
        "id": "wgq3K2EPUMSF"
      }
    },
    {
      "cell_type": "code",
      "source": [
        "import matplotlib.pyplot as plt\n",
        "import numpy as np\n",
        "\n",
        "# Data for each metric and model\n",
        "models = ['Random Forest', 'Gradient Boosting', 'Linear Regression']\n",
        "mae_values = [mae_random, mae_gradient, mae_linear]\n",
        "mse_values = [mse_random, mse_gradient, mse_linear]\n",
        "r2_values = [r2_random, r2_gradient, r2_linear]\n",
        "\n",
        "# Plotting the MAE\n",
        "plt.figure(figsize=(14, 6))\n",
        "\n",
        "plt.subplot(1, 3, 1)\n",
        "plt.bar(models, mae_values, color=['blue', 'green', 'red'])\n",
        "plt.title('Mean Absolute Error (MAE)')\n",
        "plt.ylabel('MAE')\n",
        "plt.xticks(rotation=45)\n",
        "\n",
        "# Plotting the MSE\n",
        "plt.subplot(1, 3, 2)\n",
        "plt.bar(models, mse_values, color=['blue', 'green', 'red'])\n",
        "plt.title('Mean Squared Error (MSE)')\n",
        "plt.ylabel('MSE')\n",
        "plt.xticks(rotation=45)\n",
        "\n",
        "# Plotting the R² Score\n",
        "plt.subplot(1, 3, 3)\n",
        "plt.bar(models, r2_values, color=['blue', 'green', 'red'])\n",
        "plt.title('R² Score')\n",
        "plt.ylabel('R²')\n",
        "plt.xticks(rotation=45)\n",
        "\n",
        "# Show the plots\n",
        "plt.tight_layout()\n",
        "plt.show()\n"
      ],
      "metadata": {
        "colab": {
          "base_uri": "https://localhost:8080/",
          "height": 508
        },
        "id": "FmVolhgbUK3_",
        "outputId": "2c42421e-cafd-4262-b192-c82d8d776c03"
      },
      "execution_count": 169,
      "outputs": [
        {
          "output_type": "display_data",
          "data": {
            "text/plain": [
              "<Figure size 1400x600 with 3 Axes>"
            ],
            "image/png": "[encoded data removed]"
          },
          "metadata": {}
        }
      ]
    },
    {
      "cell_type": "markdown",
      "source": [
        "conclusion: \"Random Forest Regression has best Result\"\n"
      ],
      "metadata": {
        "id": "Jlka4WOrWfiz"
      }
    },
    {
      "cell_type": "markdown",
      "source": [
        "Prediction\n"
      ],
      "metadata": {
        "id": "SRFVW2SWghRd"
      }
    },
    {
      "cell_type": "code",
      "source": [
        "import pandas as pd\n",
        "from sklearn.ensemble import RandomForestRegressor\n",
        "from sklearn.linear_model import LinearRegression\n",
        "from sklearn.ensemble import GradientBoostingRegressor\n",
        "\n",
        "\n",
        "# Collect user input\n",
        "YoE = float(input(\"Enter year of Experience: \"))\n",
        "user_data = {'YearsExperience': [YoE]}\n",
        "input_df = pd.DataFrame(user_data)\n",
        "\n",
        "# Make predictions\n",
        "prediction1 = model_random.predict(input_df)\n",
        "prediction2 = model_linear.predict(input_df)\n",
        "prediction3 = model_gradient.predict(input_df)\n",
        "\n",
        "# Print predictions\n",
        "print(f'The predicted value using Random Forest is: ${prediction1[0]:,.2f}')\n",
        "print(f'The predicted value using Linear Regression is: ${prediction2[0]:,.2f}')\n",
        "print(f'The predicted value using Gradient Boosting is: ${prediction3[0]:,.2f}')\n"
      ],
      "metadata": {
        "colab": {
          "base_uri": "https://localhost:8080/"
        },
        "id": "HgbTaYOtYXpS",
        "outputId": "0ef97e51-cf1f-47a4-8d86-efeee3d532e6"
      },
      "execution_count": 170,
      "outputs": [
        {
          "output_type": "stream",
          "name": "stdout",
          "text": [
            "Enter year of Experience: 1.1\n",
            "The predicted value using Random Forest is: $40,985.79\n",
            "The predicted value using Linear Regression is: $38,515.27\n",
            "The predicted value using Gradient Boosting is: $42,383.35\n"
          ]
        }
      ]
    }
  ]
}